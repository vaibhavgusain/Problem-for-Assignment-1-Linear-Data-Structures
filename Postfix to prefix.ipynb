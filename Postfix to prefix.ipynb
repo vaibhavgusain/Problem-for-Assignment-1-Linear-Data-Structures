{
 "cells": [
  {
   "cell_type": "code",
   "execution_count": null,
   "id": "71d1c6c6",
   "metadata": {},
   "outputs": [],
   "source": [
    "# Python Program to convert postfix to prefix\n",
    "\n",
    "# function to check if \n",
    "# character is opearator or not "
   ]
  },
  {
   "cell_type": "code",
   "execution_count": 2,
   "id": "d56d854b",
   "metadata": {},
   "outputs": [
    {
     "name": "stdout",
     "output_type": "stream",
     "text": [
      "Prefix : +AB-CD\n"
     ]
    }
   ],
   "source": [
    "def isOperator(x):\n",
    "    \n",
    "    if x ==\"+\":\n",
    "        return True\n",
    "    if x ==\"-\":\n",
    "        return True \n",
    "    if x ==\"/\":\n",
    "        return True \n",
    "    if x == \"*\":\n",
    "        return True \n",
    "    \n",
    "    return False\n",
    "\n",
    "# Convert postfix to prefix expression \n",
    "\n",
    "def postToPre(post_exp):\n",
    "    \n",
    "    s = []\n",
    "    \n",
    "    # length of expression \n",
    "    length = len(post_exp)\n",
    "    \n",
    "    #reading form right to left\n",
    "    for i in range(length):\n",
    "        \n",
    "        #check is symbol is operator\n",
    "        if (isOperator(post_exp[i])):\n",
    "            op1 = s[-1]\n",
    "            s.pop()\n",
    "            op2 = s[-1]\n",
    "            s.pop()\n",
    "            \n",
    "            #concat the operands and opeartor \n",
    "            temp = post_exp[i] + op2 + op1\n",
    "            \n",
    "            # Push string temp back to stack\n",
    "            s.append(temp)\n",
    "        \n",
    "        # if symbol is an operand\n",
    "        else:\n",
    "            \n",
    "            #push the operand to the stack\n",
    "            s.append(post_exp[i])\n",
    "            \n",
    "    ans = \"\"\n",
    "    for i in s:\n",
    "        ans +=i\n",
    "    return ans\n",
    "#Drive code\n",
    "if __name__ == \"__main__\":\n",
    "    post_exp = \"AB+CD-\"\n",
    "    \n",
    "    #fucntion call\n",
    "    print(\"Prefix :\",postToPre(post_exp))"
   ]
  },
  {
   "cell_type": "code",
   "execution_count": null,
   "id": "8801ed37",
   "metadata": {},
   "outputs": [],
   "source": []
  }
 ],
 "metadata": {
  "kernelspec": {
   "display_name": "Python 3 (ipykernel)",
   "language": "python",
   "name": "python3"
  },
  "language_info": {
   "codemirror_mode": {
    "name": "ipython",
    "version": 3
   },
   "file_extension": ".py",
   "mimetype": "text/x-python",
   "name": "python",
   "nbconvert_exporter": "python",
   "pygments_lexer": "ipython3",
   "version": "3.9.12"
  }
 },
 "nbformat": 4,
 "nbformat_minor": 5
}
