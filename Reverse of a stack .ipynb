{
 "cells": [
  {
   "cell_type": "code",
   "execution_count": 24,
   "id": "f502241d",
   "metadata": {},
   "outputs": [
    {
     "name": "stdout",
     "output_type": "stream",
     "text": [
      "Enter the elements to add to the stack: 10 20 30 40 50\n",
      "The reversed stack is:\n",
      "50\n",
      "40\n",
      "30\n",
      "20\n",
      "10\n",
      "The stack is:\n",
      "10\n",
      "20\n",
      "30\n",
      "40\n",
      "50\n"
     ]
    }
   ],
   "source": [
    "class Stack_structure:\n",
    "   def __init__(self):\n",
    "      self.items = []\n",
    "\n",
    "   def check_empty(self):\n",
    "      return self.items == []\n",
    "\n",
    "   def push_val(self, data):\n",
    "      self.items.append(data)\n",
    "\n",
    "   def pop_val(self):\n",
    "      return self.items.pop()\n",
    "\n",
    "   def print_it(self):\n",
    "      for data in reversed(self.items):\n",
    "         print(data)\n",
    "\n",
    "def insert_bottom(instance, data):\n",
    "   if instance.check_empty():\n",
    "      instance.push_val(data)\n",
    "   else:\n",
    "      deleted_elem = instance.pop_val()\n",
    "      insert_bottom(instance, data)\n",
    "      instance.push_val(deleted_elem)\n",
    "\n",
    "def stack_reverse(instance):\n",
    "   if not instance.check_empty():\n",
    "      deleted_elem = instance.pop_val()\n",
    "      stack_reverse(instance)\n",
    "      insert_bottom(instance, deleted_elem)\n",
    "\n",
    "my_instance = Stack_structure()\n",
    "data_list = input('Enter the elements to add to the stack: ').split()\n",
    "for data in data_list:\n",
    "   my_instance.push_val(int(data))\n",
    "\n",
    "print('The reversed stack is:')\n",
    "my_instance.print_it()\n",
    "stack_reverse(my_instance)\n",
    "print('The stack is:')\n",
    "my_instance.print_it()\n",
    "\n"
   ]
  },
  {
   "cell_type": "code",
   "execution_count": null,
   "id": "937d7830",
   "metadata": {},
   "outputs": [],
   "source": []
  },
  {
   "cell_type": "code",
   "execution_count": null,
   "id": "28e6db70",
   "metadata": {},
   "outputs": [],
   "source": []
  }
 ],
 "metadata": {
  "kernelspec": {
   "display_name": "Python 3 (ipykernel)",
   "language": "python",
   "name": "python3"
  },
  "language_info": {
   "codemirror_mode": {
    "name": "ipython",
    "version": 3
   },
   "file_extension": ".py",
   "mimetype": "text/x-python",
   "name": "python",
   "nbconvert_exporter": "python",
   "pygments_lexer": "ipython3",
   "version": "3.9.12"
  }
 },
 "nbformat": 4,
 "nbformat_minor": 5
}
