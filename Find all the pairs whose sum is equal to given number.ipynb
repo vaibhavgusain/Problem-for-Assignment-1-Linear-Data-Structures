{
 "cells": [
  {
   "cell_type": "code",
   "execution_count": 2,
   "id": "a7ade496",
   "metadata": {},
   "outputs": [
    {
     "name": "stdout",
     "output_type": "stream",
     "text": [
      "5 2 3 4 1 6 7\n",
      "7\n",
      "Array= [5, 2, 3, 4, 1, 6, 7]\n",
      "Pairs whose sum is : 7\n",
      "5 2\n",
      "3 4\n",
      "1 6\n"
     ]
    }
   ],
   "source": [
    "def find(array,len,summ):\n",
    "    print('Pairs whose sum is :',summ)\n",
    "    for i in range(len):\n",
    "        for j in range(i,len):\n",
    "            if (array[i]+array[j]) == summ:\n",
    "                print(array[i],array[j])\n",
    "# take array from user                \n",
    "array = [int(x)  for x in input().split()]\n",
    "#Take sum as input form user\n",
    "summ = int(input())\n",
    "\n",
    "#print array\n",
    "print('Array=',array)\n",
    "\n",
    "# cal function find\n",
    "find(array,len(array),summ)"
   ]
  },
  {
   "cell_type": "code",
   "execution_count": null,
   "id": "211e84ba",
   "metadata": {},
   "outputs": [],
   "source": []
  }
 ],
 "metadata": {
  "kernelspec": {
   "display_name": "Python 3 (ipykernel)",
   "language": "python",
   "name": "python3"
  },
  "language_info": {
   "codemirror_mode": {
    "name": "ipython",
    "version": 3
   },
   "file_extension": ".py",
   "mimetype": "text/x-python",
   "name": "python",
   "nbconvert_exporter": "python",
   "pygments_lexer": "ipython3",
   "version": "3.9.12"
  }
 },
 "nbformat": 4,
 "nbformat_minor": 5
}
