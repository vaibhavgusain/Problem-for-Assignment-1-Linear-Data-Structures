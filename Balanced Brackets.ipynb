{
 "cells": [
  {
   "cell_type": "code",
   "execution_count": null,
   "id": "c1b3d147",
   "metadata": {},
   "outputs": [],
   "source": [
    "#Balance brackets "
   ]
  },
  {
   "cell_type": "code",
   "execution_count": 4,
   "id": "4008c486",
   "metadata": {},
   "outputs": [
    {
     "name": "stdout",
     "output_type": "stream",
     "text": [
      "Balanced\n"
     ]
    }
   ],
   "source": [
    "def Bracketbalance(expression):\n",
    "    stack = []\n",
    "    \n",
    "    # Traversing the Expression \n",
    "    for char in expression:\n",
    "        if char in [\"(\",\"{\",\"[\"]:\n",
    "            \n",
    "            # push the element the stack\n",
    "            stack.append(char)\n",
    "        else:\n",
    "            if not stack:\n",
    "                return False\n",
    "            current_char = stack.pop()\n",
    "            if current_char == '(':\n",
    "                if char !=\")\":\n",
    "                    return False\n",
    "            if current_char == \"{\":\n",
    "                if char != \"}\":\n",
    "                    return False\n",
    "            if current_char =='[':\n",
    "                if char!=']':\n",
    "                    return False\n",
    "    if stack:\n",
    "        return False\n",
    "    return True\n",
    "\n",
    "# Driver Code\n",
    "if __name__ =='__main__':\n",
    "    expression = '{()}[]'\n",
    "    \n",
    "    if Bracketbalance(expression):\n",
    "        print('Balanced')\n",
    "    else:\n",
    "        print('Not Balanced')\n",
    "                \n",
    "                \n",
    "            "
   ]
  },
  {
   "cell_type": "code",
   "execution_count": null,
   "id": "a0034d01",
   "metadata": {},
   "outputs": [],
   "source": []
  }
 ],
 "metadata": {
  "kernelspec": {
   "display_name": "Python 3 (ipykernel)",
   "language": "python",
   "name": "python3"
  },
  "language_info": {
   "codemirror_mode": {
    "name": "ipython",
    "version": 3
   },
   "file_extension": ".py",
   "mimetype": "text/x-python",
   "name": "python",
   "nbconvert_exporter": "python",
   "pygments_lexer": "ipython3",
   "version": "3.9.12"
  }
 },
 "nbformat": 4,
 "nbformat_minor": 5
}
