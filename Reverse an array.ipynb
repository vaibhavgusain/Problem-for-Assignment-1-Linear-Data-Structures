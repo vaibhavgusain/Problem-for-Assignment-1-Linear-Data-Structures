{
 "cells": [
  {
   "cell_type": "code",
   "execution_count": null,
   "id": "263e3f21",
   "metadata": {},
   "outputs": [],
   "source": [
    "Reverse an array"
   ]
  },
  {
   "cell_type": "raw",
   "id": "2458eac0",
   "metadata": {},
   "source": []
  },
  {
   "cell_type": "code",
   "execution_count": 3,
   "id": "230035b9",
   "metadata": {},
   "outputs": [
    {
     "name": "stdout",
     "output_type": "stream",
     "text": [
      "[1, 2, 3, 4, 5, 6, 7]\n",
      "Reversed list is\n",
      "[7, 6, 5, 4, 3, 2, 1]\n"
     ]
    }
   ],
   "source": [
    "def reverse(stringg,start,end):\n",
    "\n",
    "    while start<end:\n",
    "        stringg[start],stringg[end]=stringg[end],stringg[start]\n",
    "        start+=1\n",
    "        end-=1\n",
    "stringg = [1, 2, 3, 4, 5, 6,7]\n",
    "print(stringg)\n",
    "reverse(stringg, 0, 6)\n",
    "print(\"Reversed list is\")\n",
    "print(stringg)\n",
    "        "
   ]
  },
  {
   "cell_type": "code",
   "execution_count": null,
   "id": "b3f17439",
   "metadata": {},
   "outputs": [],
   "source": []
  }
 ],
 "metadata": {
  "kernelspec": {
   "display_name": "Python 3 (ipykernel)",
   "language": "python",
   "name": "python3"
  },
  "language_info": {
   "codemirror_mode": {
    "name": "ipython",
    "version": 3
   },
   "file_extension": ".py",
   "mimetype": "text/x-python",
   "name": "python",
   "nbconvert_exporter": "python",
   "pygments_lexer": "ipython3",
   "version": "3.9.12"
  }
 },
 "nbformat": 4,
 "nbformat_minor": 5
}
