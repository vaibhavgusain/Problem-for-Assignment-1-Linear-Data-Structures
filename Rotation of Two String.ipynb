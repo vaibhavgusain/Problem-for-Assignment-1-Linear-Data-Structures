{
 "cells": [
  {
   "cell_type": "code",
   "execution_count": 4,
   "id": "27be6d69",
   "metadata": {},
   "outputs": [
    {
     "name": "stdout",
     "output_type": "stream",
     "text": [
      "Strings are rotations of each other\n"
     ]
    }
   ],
   "source": [
    "def Rotation(string1,string2):\n",
    "    size1 = len(string1)\n",
    "    size2 = len(string2)\n",
    "    temp = ''\n",
    "\n",
    "    \n",
    "# check if size of two  strings are same\n",
    "    if size1!=size2:\n",
    "        return 0\n",
    "    # create a temp string with value str1.str1\n",
    "    temp = string1+string1\n",
    "    \n",
    "    # check if str2 is a substring of temp \n",
    "    # sting.count reutrns the number of occurrence of the second stringin temp\n",
    "    if (temp.count(string2)>0):\n",
    "        return 1\n",
    "    else:\n",
    "        return 0\n",
    "    \n",
    "string1 =  'AACD'\n",
    "string2 = 'ACDA'\n",
    "    \n",
    "if Rotation(string1,string2):\n",
    "    print('Strings are rotations of each other')\n",
    "else:\n",
    "    print('Strings are not  rotations of each  other')"
   ]
  },
  {
   "cell_type": "code",
   "execution_count": null,
   "id": "64131b6a",
   "metadata": {},
   "outputs": [],
   "source": []
  },
  {
   "cell_type": "code",
   "execution_count": null,
   "id": "53cb7354",
   "metadata": {},
   "outputs": [],
   "source": []
  },
  {
   "cell_type": "code",
   "execution_count": null,
   "id": "6cdc84ad",
   "metadata": {},
   "outputs": [],
   "source": []
  }
 ],
 "metadata": {
  "kernelspec": {
   "display_name": "Python 3 (ipykernel)",
   "language": "python",
   "name": "python3"
  },
  "language_info": {
   "codemirror_mode": {
    "name": "ipython",
    "version": 3
   },
   "file_extension": ".py",
   "mimetype": "text/x-python",
   "name": "python",
   "nbconvert_exporter": "python",
   "pygments_lexer": "ipython3",
   "version": "3.9.12"
  }
 },
 "nbformat": 4,
 "nbformat_minor": 5
}
