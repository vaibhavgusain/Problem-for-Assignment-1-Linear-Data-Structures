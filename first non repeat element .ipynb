{
 "cells": [
  {
   "cell_type": "code",
   "execution_count": null,
   "id": "5878a817",
   "metadata": {},
   "outputs": [],
   "source": [
    "Non-repeatative elements"
   ]
  },
  {
   "cell_type": "code",
   "execution_count": 2,
   "id": "da104013",
   "metadata": {},
   "outputs": [
    {
     "name": "stdout",
     "output_type": "stream",
     "text": [
      "o\n",
      "M\n",
      "u\n",
      "None\n"
     ]
    }
   ],
   "source": [
    "def first_repeat_char(stringg):\n",
    "    char_order = []\n",
    "    counts = {}\n",
    "    for c in stringg:\n",
    "        if c in counts:\n",
    "            counts[c] +=1\n",
    "        else:\n",
    "            counts[c] = 1\n",
    "            char_order.append(c)\n",
    "    for c in char_order:\n",
    "        if counts[c] ==1:\n",
    "            return c \n",
    "    return None\n",
    "        \n",
    "        \n",
    "print(first_repeat_char('nothing')    )\n",
    "print(first_repeat_char('PythonforallPythonMustforall'))\n",
    "print(first_repeat_char('tutorialspointfordeveloper'))\n",
    "print(first_repeat_char('AABBCC'))"
   ]
  },
  {
   "cell_type": "code",
   "execution_count": null,
   "id": "19a80756",
   "metadata": {},
   "outputs": [],
   "source": []
  }
 ],
 "metadata": {
  "kernelspec": {
   "display_name": "Python 3 (ipykernel)",
   "language": "python",
   "name": "python3"
  },
  "language_info": {
   "codemirror_mode": {
    "name": "ipython",
    "version": 3
   },
   "file_extension": ".py",
   "mimetype": "text/x-python",
   "name": "python",
   "nbconvert_exporter": "python",
   "pygments_lexer": "ipython3",
   "version": "3.9.12"
  }
 },
 "nbformat": 4,
 "nbformat_minor": 5
}
