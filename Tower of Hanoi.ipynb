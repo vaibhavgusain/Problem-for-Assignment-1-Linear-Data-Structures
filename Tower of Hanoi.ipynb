{
 "cells": [
  {
   "cell_type": "code",
   "execution_count": 4,
   "id": "ac63070b",
   "metadata": {},
   "outputs": [
    {
     "name": "stdout",
     "output_type": "stream",
     "text": [
      "Move disk 1 form rod A to rod C\n",
      "Move disk 2 form rod A to rod B\n",
      "Move disk 1 form rod C to rod B\n",
      "Move disk 3 form rod A to rod C\n",
      "Move disk 1 form rod B to rod A\n",
      "Move disk 2 form rod B to rod C\n",
      "Move disk 1 form rod A to rod C\n"
     ]
    }
   ],
   "source": [
    "def TowerOfHanoi(n,from_rod, to_rod,aux_rod):\n",
    "    if n==0:\n",
    "        return \n",
    "    TowerOfHanoi(n-1,from_rod,aux_rod,to_rod)\n",
    "    print(\"Move disk\",n,'form rod',from_rod,\"to rod\",to_rod)\n",
    "    TowerOfHanoi(n-1,aux_rod,to_rod,from_rod)\n",
    "    \n",
    "n = 3\n",
    "TowerOfHanoi(n,'A','C','B')"
   ]
  },
  {
   "cell_type": "code",
   "execution_count": null,
   "id": "6cdcf57a",
   "metadata": {},
   "outputs": [],
   "source": []
  },
  {
   "cell_type": "code",
   "execution_count": null,
   "id": "0be3abc1",
   "metadata": {},
   "outputs": [],
   "source": []
  }
 ],
 "metadata": {
  "kernelspec": {
   "display_name": "Python 3 (ipykernel)",
   "language": "python",
   "name": "python3"
  },
  "language_info": {
   "codemirror_mode": {
    "name": "ipython",
    "version": 3
   },
   "file_extension": ".py",
   "mimetype": "text/x-python",
   "name": "python",
   "nbconvert_exporter": "python",
   "pygments_lexer": "ipython3",
   "version": "3.9.12"
  }
 },
 "nbformat": 4,
 "nbformat_minor": 5
}
